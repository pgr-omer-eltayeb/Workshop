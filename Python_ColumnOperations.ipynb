{
 "cells": [
  {
   "cell_type": "code",
   "execution_count": 2,
   "metadata": {},
   "outputs": [
    {
     "name": "stdout",
     "output_type": "stream",
     "text": [
      "Modified dataset saved as 'titanic_modified.csv'\n"
     ]
    }
   ],
   "source": [
    "import pandas as pd\n",
    "\n",
    "# Step 1: Load Titanic Dataset\n",
    "titanic_df = pd.read_csv('titanic.csv')\n",
    "\n",
    "# Step 2: Rename the 'name' column to 'FULL_NAME'\n",
    "titanic_df.rename(columns={'name': 'FULL_NAME'}, inplace=True)\n",
    "\n",
    "# Step 3: Remove passengers who did not survive (survived = 0)\n",
    "titanic_df = titanic_df[titanic_df['survived'] == 1]\n",
    "\n",
    "# Step 4: Remove the 'sibsp' column\n",
    "titanic_df.drop(columns=['sibsp'], inplace=True)\n",
    "\n",
    "# Step 5: Fill empty values in the 'cabin' column with 'NONE'\n",
    "titanic_df['cabin'].fillna('NONE', inplace=True)\n",
    "\n",
    "# Step 6: Output the dataset to another file\n",
    "titanic_df.to_csv('titanic_modified.csv', index=False)\n",
    "\n",
    "print(\"Modified dataset saved as 'titanic_modified.csv'\")\n"
   ]
  }
 ],
 "metadata": {
  "kernelspec": {
   "display_name": "Python 3",
   "language": "python",
   "name": "python3"
  },
  "language_info": {
   "codemirror_mode": {
    "name": "ipython",
    "version": 3
   },
   "file_extension": ".py",
   "mimetype": "text/x-python",
   "name": "python",
   "nbconvert_exporter": "python",
   "pygments_lexer": "ipython3",
   "version": "3.8.17"
  },
  "orig_nbformat": 4
 },
 "nbformat": 4,
 "nbformat_minor": 2
}
